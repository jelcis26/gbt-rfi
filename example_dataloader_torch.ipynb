{
 "cells": [
  {
   "cell_type": "code",
   "execution_count": 2,
   "id": "7bfecb3e",
   "metadata": {},
   "outputs": [],
   "source": [
    "import numpy as np \n",
    "import torch \n",
    "import matplotlib.pyplot as plt"
   ]
  },
  {
   "cell_type": "code",
   "execution_count": 4,
   "id": "6625072c",
   "metadata": {},
   "outputs": [],
   "source": [
    "data_array = np.load('/datax/scratch/jliang/data_array.npy')\n",
    "data_tensor = torch.from_numpy(data_array)\n",
    "y = torch.from_numpy(np.zeros(100))"
   ]
  },
  {
   "cell_type": "code",
   "execution_count": 5,
   "id": "e47023d3",
   "metadata": {},
   "outputs": [],
   "source": [
    "dataset = torch.utils.data.TensorDataset(data_tensor, y)\n",
    "dataloader = torch.utils.data.DataLoader(dataset, batch_size=10, shuffle=True)"
   ]
  }
 ],
 "metadata": {
  "kernelspec": {
   "display_name": "torch",
   "language": "python",
   "name": "python3"
  },
  "language_info": {
   "codemirror_mode": {
    "name": "ipython",
    "version": 3
   },
   "file_extension": ".py",
   "mimetype": "text/x-python",
   "name": "python",
   "nbconvert_exporter": "python",
   "pygments_lexer": "ipython3",
   "version": "3.12.3"
  }
 },
 "nbformat": 4,
 "nbformat_minor": 5
}
