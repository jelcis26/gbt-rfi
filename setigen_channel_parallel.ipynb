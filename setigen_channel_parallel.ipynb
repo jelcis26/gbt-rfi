{
 "cells": [
  {
   "cell_type": "code",
   "execution_count": null,
   "id": "4939a7af",
   "metadata": {},
   "outputs": [],
   "source": [
    "import pandas as pd\n",
    "import blimpy as bl\n",
    "import setigen as stg\n",
    "import numpy as np\n",
    "from concurrent.futures import ProcessPoolExecutor\n",
    "\n",
    "# --- SETTINGS ---\n",
    "csv_path = 'your_files.csv'\n",
    "n_coarse = 16\n",
    "coarse_width = 1024\n",
    "max_workers = 4  # Tune this for your server\n",
    "\n",
    "# --- LOAD CSV ---\n",
    "df = pd.read_csv(csv_path)\n",
    "\n",
    "# --- PREPARE ALL TASKS ---\n",
    "tasks = []\n",
    "for _, row in df.iterrows():\n",
    "    h5_path = row['.h5 path']\n",
    "    for coarse_idx in range(n_coarse):\n",
    "        tasks.append((h5_path, coarse_idx))\n",
    "\n",
    "# --- DEFINE PROCESSING FUNCTION ---\n",
    "def process_coarse_channel(args):\n",
    "    h5_path, coarse_idx = args\n",
    "    try:\n",
    "        fb = bl.Waterfall(h5_path)\n",
    "        data = fb.data.squeeze()\n",
    "        start = coarse_idx * coarse_width\n",
    "        end = (coarse_idx + 1) * coarse_width\n",
    "        coarse_data = data[:, start:end]\n",
    "        frame = stg.Frame(coarse_data)\n",
    "        # --- Injection logic goes here ---\n",
    "        # frame.add_noise(...)\n",
    "        # frame.add_signal(...)\n",
    "        # Save or return results\n",
    "        print(f\"Done: {h5_path}, coarse channel {coarse_idx}\")\n",
    "        return (h5_path, coarse_idx, True)  # Or whatever result you need\n",
    "    except Exception as e:\n",
    "        print(f\"Error processing {h5_path}, coarse {coarse_idx}: {e}\")\n",
    "        return (h5_path, coarse_idx, False)\n",
    "\n",
    "# --- RUN PARALLEL PROCESSING ---\n",
    "with ProcessPoolExecutor(max_workers=max_workers) as executor:\n",
    "    results = list(executor.map(process_coarse_channel, tasks))\n",
    "\n",
    "print(\"All jobs completed.\")\n"
   ]
  }
 ],
 "metadata": {
  "language_info": {
   "name": "python"
  }
 },
 "nbformat": 4,
 "nbformat_minor": 5
}
