{
 "cells": [
  {
   "cell_type": "code",
   "execution_count": 16,
   "metadata": {},
   "outputs": [],
   "source": [
    "import numpy as np\n",
    "import matplotlib.pyplot as plt\n",
    "import pandas as pd\n",
    "import blimpy as bl\n",
    "%matplotlib inline\n",
    "\n",
    "from turbo_seti.find_doppler.find_doppler import FindDoppler"
   ]
  },
  {
   "cell_type": "code",
   "execution_count": 4,
   "metadata": {},
   "outputs": [
    {
     "data": {
      "text/html": [
       "<div>\n",
       "<style scoped>\n",
       "    .dataframe tbody tr th:only-of-type {\n",
       "        vertical-align: middle;\n",
       "    }\n",
       "\n",
       "    .dataframe tbody tr th {\n",
       "        vertical-align: top;\n",
       "    }\n",
       "\n",
       "    .dataframe thead th {\n",
       "        text-align: right;\n",
       "    }\n",
       "</style>\n",
       "<table border=\"1\" class=\"dataframe\">\n",
       "  <thead>\n",
       "    <tr style=\"text-align: right;\">\n",
       "      <th></th>\n",
       "      <th>Target</th>\n",
       "      <th>Session</th>\n",
       "      <th>Band</th>\n",
       "      <th>Cadence ID</th>\n",
       "      <th>Frequency</th>\n",
       "      <th>.h5 path</th>\n",
       "      <th>.dat path</th>\n",
       "      <th>Time</th>\n",
       "    </tr>\n",
       "  </thead>\n",
       "  <tbody>\n",
       "    <tr>\n",
       "      <th>0</th>\n",
       "      <td>DDO210</td>\n",
       "      <td>AGBT18A_999_103</td>\n",
       "      <td>L</td>\n",
       "      <td>24777</td>\n",
       "      <td>2251</td>\n",
       "      <td>/datag/pipeline/AGBT18A_999_103/collate/splice...</td>\n",
       "      <td>/home/obs/turboseti/AGBT18A_999_103/collate/sp...</td>\n",
       "      <td>2018-07-07 08:49:26</td>\n",
       "    </tr>\n",
       "    <tr>\n",
       "      <th>1</th>\n",
       "      <td>DDO210</td>\n",
       "      <td>AGBT18A_999_103</td>\n",
       "      <td>L</td>\n",
       "      <td>24777</td>\n",
       "      <td>2251</td>\n",
       "      <td>/datag/pipeline/AGBT18A_999_103/collate/splice...</td>\n",
       "      <td>/home/obs/turboseti/AGBT18A_999_103/collate/sp...</td>\n",
       "      <td>2018-07-07 08:49:26</td>\n",
       "    </tr>\n",
       "    <tr>\n",
       "      <th>2</th>\n",
       "      <td>DDO210</td>\n",
       "      <td>AGBT18A_999_103</td>\n",
       "      <td>L</td>\n",
       "      <td>24777</td>\n",
       "      <td>2251</td>\n",
       "      <td>/datag/pipeline/AGBT18A_999_103/collate/splice...</td>\n",
       "      <td>/home/obs/turboseti/AGBT18A_999_103/collate/sp...</td>\n",
       "      <td>2018-07-07 08:49:26</td>\n",
       "    </tr>\n",
       "    <tr>\n",
       "      <th>3</th>\n",
       "      <td>DDO210</td>\n",
       "      <td>AGBT18A_999_103</td>\n",
       "      <td>L</td>\n",
       "      <td>24777</td>\n",
       "      <td>2251</td>\n",
       "      <td>/datag/pipeline/AGBT18A_999_103/collate/splice...</td>\n",
       "      <td>/home/obs/turboseti/AGBT18A_999_103/collate/sp...</td>\n",
       "      <td>2018-07-07 08:49:26</td>\n",
       "    </tr>\n",
       "    <tr>\n",
       "      <th>4</th>\n",
       "      <td>DDO210</td>\n",
       "      <td>AGBT18A_999_103</td>\n",
       "      <td>L</td>\n",
       "      <td>24777</td>\n",
       "      <td>2251</td>\n",
       "      <td>/datag/pipeline/AGBT18A_999_103/collate/splice...</td>\n",
       "      <td>/home/obs/turboseti/AGBT18A_999_103/collate/sp...</td>\n",
       "      <td>2018-07-07 08:49:26</td>\n",
       "    </tr>\n",
       "    <tr>\n",
       "      <th>...</th>\n",
       "      <td>...</td>\n",
       "      <td>...</td>\n",
       "      <td>...</td>\n",
       "      <td>...</td>\n",
       "      <td>...</td>\n",
       "      <td>...</td>\n",
       "      <td>...</td>\n",
       "      <td>...</td>\n",
       "    </tr>\n",
       "    <tr>\n",
       "      <th>36553</th>\n",
       "      <td>NGC3226</td>\n",
       "      <td>AGBT22B_999_25</td>\n",
       "      <td>L</td>\n",
       "      <td>411390</td>\n",
       "      <td>1126</td>\n",
       "      <td>/datag/pipeline/AGBT22B_999_25/blc16_blp06/blc...</td>\n",
       "      <td>/home/obs/turboseti/AGBT22B_999_25/blc16_blp06...</td>\n",
       "      <td>2022-11-19 06:13:36</td>\n",
       "    </tr>\n",
       "    <tr>\n",
       "      <th>36554</th>\n",
       "      <td>NGC3226</td>\n",
       "      <td>AGBT22B_999_25</td>\n",
       "      <td>L</td>\n",
       "      <td>411390</td>\n",
       "      <td>1126</td>\n",
       "      <td>/datag/pipeline/AGBT22B_999_25/blc16_blp06/blc...</td>\n",
       "      <td>/home/obs/turboseti/AGBT22B_999_25/blc16_blp06...</td>\n",
       "      <td>2022-11-19 06:13:36</td>\n",
       "    </tr>\n",
       "    <tr>\n",
       "      <th>36555</th>\n",
       "      <td>NGC3226</td>\n",
       "      <td>AGBT22B_999_25</td>\n",
       "      <td>L</td>\n",
       "      <td>411390</td>\n",
       "      <td>1126</td>\n",
       "      <td>/datag/pipeline/AGBT22B_999_25/blc16_blp06/blc...</td>\n",
       "      <td>/home/obs/turboseti/AGBT22B_999_25/blc16_blp06...</td>\n",
       "      <td>2022-11-19 06:13:36</td>\n",
       "    </tr>\n",
       "    <tr>\n",
       "      <th>36556</th>\n",
       "      <td>NGC3226</td>\n",
       "      <td>AGBT22B_999_25</td>\n",
       "      <td>L</td>\n",
       "      <td>411390</td>\n",
       "      <td>1126</td>\n",
       "      <td>/datag/pipeline/AGBT22B_999_25/blc16_blp06/blc...</td>\n",
       "      <td>/home/obs/turboseti/AGBT22B_999_25/blc16_blp06...</td>\n",
       "      <td>2022-11-19 06:13:36</td>\n",
       "    </tr>\n",
       "    <tr>\n",
       "      <th>36557</th>\n",
       "      <td>NGC3226</td>\n",
       "      <td>AGBT22B_999_25</td>\n",
       "      <td>L</td>\n",
       "      <td>411390</td>\n",
       "      <td>1126</td>\n",
       "      <td>/datag/pipeline/AGBT22B_999_25/blc16_blp06/blc...</td>\n",
       "      <td>/home/obs/turboseti/AGBT22B_999_25/blc16_blp06...</td>\n",
       "      <td>2022-11-19 06:13:36</td>\n",
       "    </tr>\n",
       "  </tbody>\n",
       "</table>\n",
       "<p>36558 rows × 8 columns</p>\n",
       "</div>"
      ],
      "text/plain": [
       "        Target          Session Band  Cadence ID  Frequency  \\\n",
       "0       DDO210  AGBT18A_999_103    L       24777       2251   \n",
       "1       DDO210  AGBT18A_999_103    L       24777       2251   \n",
       "2       DDO210  AGBT18A_999_103    L       24777       2251   \n",
       "3       DDO210  AGBT18A_999_103    L       24777       2251   \n",
       "4       DDO210  AGBT18A_999_103    L       24777       2251   \n",
       "...        ...              ...  ...         ...        ...   \n",
       "36553  NGC3226   AGBT22B_999_25    L      411390       1126   \n",
       "36554  NGC3226   AGBT22B_999_25    L      411390       1126   \n",
       "36555  NGC3226   AGBT22B_999_25    L      411390       1126   \n",
       "36556  NGC3226   AGBT22B_999_25    L      411390       1126   \n",
       "36557  NGC3226   AGBT22B_999_25    L      411390       1126   \n",
       "\n",
       "                                                .h5 path  \\\n",
       "0      /datag/pipeline/AGBT18A_999_103/collate/splice...   \n",
       "1      /datag/pipeline/AGBT18A_999_103/collate/splice...   \n",
       "2      /datag/pipeline/AGBT18A_999_103/collate/splice...   \n",
       "3      /datag/pipeline/AGBT18A_999_103/collate/splice...   \n",
       "4      /datag/pipeline/AGBT18A_999_103/collate/splice...   \n",
       "...                                                  ...   \n",
       "36553  /datag/pipeline/AGBT22B_999_25/blc16_blp06/blc...   \n",
       "36554  /datag/pipeline/AGBT22B_999_25/blc16_blp06/blc...   \n",
       "36555  /datag/pipeline/AGBT22B_999_25/blc16_blp06/blc...   \n",
       "36556  /datag/pipeline/AGBT22B_999_25/blc16_blp06/blc...   \n",
       "36557  /datag/pipeline/AGBT22B_999_25/blc16_blp06/blc...   \n",
       "\n",
       "                                               .dat path                 Time  \n",
       "0      /home/obs/turboseti/AGBT18A_999_103/collate/sp...  2018-07-07 08:49:26  \n",
       "1      /home/obs/turboseti/AGBT18A_999_103/collate/sp...  2018-07-07 08:49:26  \n",
       "2      /home/obs/turboseti/AGBT18A_999_103/collate/sp...  2018-07-07 08:49:26  \n",
       "3      /home/obs/turboseti/AGBT18A_999_103/collate/sp...  2018-07-07 08:49:26  \n",
       "4      /home/obs/turboseti/AGBT18A_999_103/collate/sp...  2018-07-07 08:49:26  \n",
       "...                                                  ...                  ...  \n",
       "36553  /home/obs/turboseti/AGBT22B_999_25/blc16_blp06...  2022-11-19 06:13:36  \n",
       "36554  /home/obs/turboseti/AGBT22B_999_25/blc16_blp06...  2022-11-19 06:13:36  \n",
       "36555  /home/obs/turboseti/AGBT22B_999_25/blc16_blp06...  2022-11-19 06:13:36  \n",
       "36556  /home/obs/turboseti/AGBT22B_999_25/blc16_blp06...  2022-11-19 06:13:36  \n",
       "36557  /home/obs/turboseti/AGBT22B_999_25/blc16_blp06...  2022-11-19 06:13:36  \n",
       "\n",
       "[36558 rows x 8 columns]"
      ]
     },
     "execution_count": 4,
     "metadata": {},
     "output_type": "execute_result"
    }
   ],
   "source": [
    "df = pd.read_csv('/home/cgchoza/galaxies/complete_cadences_catalog.csv')\n",
    "df"
   ]
  },
  {
   "cell_type": "code",
   "execution_count": 5,
   "metadata": {},
   "outputs": [
    {
     "name": "stdout",
     "output_type": "stream",
     "text": [
      "['C' 'L' 'S' 'X']\n",
      "[14718  5454  3774 12612]\n"
     ]
    }
   ],
   "source": [
    "receiver_list = df['Band'].values\n",
    "u, c = np.unique(receiver_list, return_counts=True)\n",
    "print(u)\n",
    "print(c)"
   ]
  },
  {
   "cell_type": "code",
   "execution_count": 8,
   "metadata": {},
   "outputs": [
    {
     "name": "stdout",
     "output_type": "stream",
     "text": [
      "/datag/pipeline/AGBT22B_999_25/blc16_blp06/blc16_guppi_59902_24005_HIP50744_0057.rawspec.0000.h5\n",
      "\n",
      "--- File Info ---\n",
      "DIMENSION_LABELS : [b'time' b'feed_id' b'frequency']\n",
      "        az_start :                              0.0\n",
      "       data_type :                                1\n",
      "            fch1 :                1126.46484375 MHz\n",
      "            foff :      -2.7939677238464355e-06 MHz\n",
      "           ibeam :                                1\n",
      "      machine_id :                               20\n",
      "          nbeams :                                1\n",
      "           nbits :                               32\n",
      "          nchans :                         67108864\n",
      "            nfpc :                          1048576\n",
      "            nifs :                                1\n",
      "     rawdatafile : guppi_59902_24005_HIP50744_0057.0000.raw\n",
      "     source_name :                         HIP50744\n",
      "         src_dej :                      21:23:26.88\n",
      "         src_raj :                     10:21:45.024\n",
      "    telescope_id :                                6\n",
      "           tsamp :               18.253611007999982\n",
      "   tstart (ISOT) :          2022-11-19T06:40:05.000\n",
      "    tstart (MJD) :                59902.27783564815\n",
      "        za_start :                              0.0\n",
      "\n",
      "Num ints in file :                               16\n",
      "      File shape :                (16, 1, 67108864)\n",
      "--- Selection Info ---\n",
      "Data selection shape :                (16, 1, 67108864)\n",
      "Minimum freq (MHz) :                938.9648465439677\n",
      "Maximum freq (MHz) :                    1126.46484375\n"
     ]
    }
   ],
   "source": [
    "file = df['.h5 path'].values[-1]\n",
    "print(file)\n",
    "\n",
    "fb = bl.Waterfall(file)\n",
    "fb.info()"
   ]
  },
  {
   "cell_type": "code",
   "execution_count": 9,
   "metadata": {},
   "outputs": [
    {
     "name": "stdout",
     "output_type": "stream",
     "text": [
      "(16, 1, 67108864)\n"
     ]
    }
   ],
   "source": [
    "data = fb.data\n",
    "print(data.shape)"
   ]
  },
  {
   "cell_type": "code",
   "execution_count": 15,
   "metadata": {},
   "outputs": [
    {
     "data": {
      "image/png": "[encoded data removed]",
      "text/plain": [
       "<Figure size 432x288 with 2 Axes>"
      ]
     },
     "metadata": {
      "needs_background": "light"
     },
     "output_type": "display_data"
    }
   ],
   "source": [
    "fb.plot_waterfall(f_start=950, f_stop=950.002)"
   ]
  },
  {
   "cell_type": "code",
   "execution_count": 13,
   "metadata": {},
   "outputs": [
    {
     "name": "stdout",
     "output_type": "stream",
     "text": [
      "extracting integration 0...\n"
     ]
    },
    {
     "data": {
      "image/png": "[encoded data removed]",
      "text/plain": [
       "<Figure size 432x288 with 1 Axes>"
      ]
     },
     "metadata": {
      "needs_background": "light"
     },
     "output_type": "display_data"
    }
   ],
   "source": [
    "fb.plot_spectrum(logged=True)"
   ]
  },
  {
   "cell_type": "code",
   "execution_count": 22,
   "metadata": {},
   "outputs": [
    {
     "name": "stdout",
     "output_type": "stream",
     "text": [
      "\n",
      "--- File Info ---\n",
      "DIMENSION_LABELS : [b'time' b'feed_id' b'frequency']\n",
      "        az_start :                              0.0\n",
      "       data_type :                                1\n",
      "            fch1 :                8421.38671875 MHz\n",
      "            foff :      -2.7939677238464355e-06 MHz\n",
      "      machine_id :                               20\n",
      "           nbits :                               32\n",
      "          nchans :                          1048576\n",
      "            nifs :                                1\n",
      "     source_name :                        VOYAGER-1\n",
      "         src_dej :                     12:24:13.614\n",
      "         src_raj :                     17:12:40.481\n",
      "    telescope_id :                                6\n",
      "           tsamp :               18.253611007999982\n",
      "   tstart (ISOT) :          2020-07-16T22:13:56.000\n",
      "    tstart (MJD) :                59046.92634259259\n",
      "        za_start :                              0.0\n",
      "\n",
      "Num ints in file :                               16\n",
      "      File shape :                 (16, 1, 1048576)\n",
      "--- Selection Info ---\n",
      "Data selection shape :                 (16, 1, 1048576)\n",
      "Minimum freq (MHz) :                8418.457034043968\n",
      "Maximum freq (MHz) :                    8421.38671875\n"
     ]
    }
   ],
   "source": [
    "file = '/datax/scratch/jliang/single_coarse_guppi_59046_80036_DIAG_VOYAGER-1_0011.rawspec.0000.h5'\n",
    "fb = bl.Waterfall(file)\n",
    "fb.info()"
   ]
  },
  {
   "cell_type": "code",
   "execution_count": 25,
   "metadata": {},
   "outputs": [
    {
     "name": "stdout",
     "output_type": "stream",
     "text": [
      "\n",
      "turbo_seti version 2.0.18\n",
      "blimpy version 2.0.11\n",
      "h5py version 2.10.0\n",
      "\n",
      "find_doppler    INFO     {'DIMENSION_LABELS': array([b'time', b'feed_id', b'frequency'], dtype=object), 'az_start': 0.0, 'data_type': 1, 'fch1': 8421.38671875, 'foff': -2.7939677238464355e-06, 'machine_id': 20, 'nbits': 32, 'nchans': 1048576, 'nifs': 1, 'source_name': 'VOYAGER-1', 'src_dej': <Angle 12.40378167 deg>, 'src_raj': <Angle 17.21124472 hourangle>, 'telescope_id': 6, 'tsamp': 18.253611007999982, 'tstart': 59046.92634259259, 'za_start': 0.0}\n",
      "find_doppler    INFO     File: /datax/scratch/jliang/single_coarse_guppi_59046_80036_DIAG_VOYAGER-1_0011.rawspec.0000.h5\n",
      " drift rates (min, max): (0.000000, 4.000000)\n",
      " SNR: 10.000000\n",
      "\n",
      "Starting ET search using /datax/scratch/jliang/single_coarse_guppi_59046_80036_DIAG_VOYAGER-1_0011.rawspec.0000.h5\n",
      "find_doppler    INFO     Parameters: datafile=/datax/scratch/jliang/single_coarse_guppi_59046_80036_DIAG_VOYAGER-1_0011.rawspec.0000.h5, max_drift=4, min_drift=0.0, snr=10, out_dir=/datax/scratch/jliang/, coarse_chans=None, flagging=False, n_coarse_chan=None, kernels=None, gpu_backend=False, precision=2, append_output=False, log_level_int=20, obs_info={'pulsar': 0, 'pulsar_found': 0, 'pulsar_dm': 0.0, 'pulsar_snr': 0.0, 'pulsar_stats': array([0., 0., 0., 0., 0., 0.]), 'RFI_level': 0.0, 'Mean_SEFD': 0.0, 'psrflux_Sens': 0.0, 'SEFDs_val': [0.0], 'SEFDs_freq': [0.0], 'SEFDs_freq_up': [0.0]}\n",
      "find_doppler.0  INFO     Top hit found! SNR 22.328960, Drift Rate -0.363527, index 651879\n",
      "find_doppler.0  INFO     Top hit found! SNR 192.893808, Drift Rate -0.353960, index 659989\n",
      "find_doppler.0  INFO     Top hit found! SNR 22.572284, Drift Rate -0.363527, index 667983\n"
     ]
    }
   ],
   "source": [
    "doppler = FindDoppler(file, \n",
    "                      max_drift=4, \n",
    "                      snr=10, \n",
    "                      out_dir='/datax/scratch/jliang/')\n",
    "doppler.search()"
   ]
  },
  {
   "cell_type": "code",
   "execution_count": 28,
   "metadata": {},
   "outputs": [
    {
     "data": {
      "image/png": "[encoded data removed]",
      "text/plain": [
       "<Figure size 432x288 with 2 Axes>"
      ]
     },
     "metadata": {
      "needs_background": "light"
     },
     "output_type": "display_data"
    }
   ],
   "source": [
    "center_frequency = 8419.565390\n",
    "fb.plot_waterfall(logged=True, f_start=center_frequency-0.0002, f_stop=center_frequency+0.0002)"
   ]
  },
  {
   "cell_type": "code",
   "execution_count": 30,
   "metadata": {},
   "outputs": [],
   "source": [
    "pfb = np.fromfile('/datax/scratch/jliang/channelizer_response.f32', dtype='float32')\n"
   ]
  },
  {
   "cell_type": "code",
   "execution_count": 31,
   "metadata": {},
   "outputs": [
    {
     "data": {
      "text/plain": [
       "[<matplotlib.lines.Line2D at 0x7d995722cc50>]"
      ]
     },
     "execution_count": 31,
     "metadata": {},
     "output_type": "execute_result"
    },
    {
     "data": {
      "image/png": "[encoded data removed]",
      "text/plain": [
       "<Figure size 432x288 with 1 Axes>"
      ]
     },
     "metadata": {
      "needs_background": "light"
     },
     "output_type": "display_data"
    }
   ],
   "source": [
    "plt.plot(pfb)"
   ]
  },
  {
   "cell_type": "code",
   "execution_count": 32,
   "metadata": {},
   "outputs": [],
   "source": [
    "spectrum = np.mean(np.squeeze(fb.data), axis=0)\n"
   ]
  },
  {
   "cell_type": "code",
   "execution_count": null,
   "metadata": {},
   "outputs": [
    {
     "data": {
      "text/plain": [
       "0"
      ]
     },
     "execution_count": 41,
     "metadata": {},
     "output_type": "execute_result"
    }
   ],
   "source": [
    "import os\n",
    "\n",
    "snr = 30\n",
    "l1 = 30\n",
    "outdir = '/datax/scratch/jliang/'\n",
    "\n",
    "console = f'bliss_find_hits {file} -e /datax/scratch/jliang/channelizer_response.f32 -d cuda:0 -md -4 -MD 4 -s {snr} --number-coarse 1 --distance {l1} --output ' + outdir + os.path.basename(file)[:-3] + f'_nosig_nosk_SNR_{snr}_L1_{l1}.dat'\n",
    "os.system(console)"
   ]
  },
  {
   "cell_type": "code",
   "execution_count": 43,
   "metadata": {},
   "outputs": [
    {
     "data": {
      "text/plain": [
       "0"
      ]
     },
     "execution_count": 43,
     "metadata": {},
     "output_type": "execute_result"
    }
   ],
   "source": [
    "snr = 10\n",
    "console = 'seticore ' + file + ' -M 4 -s ' + str(snr) + ' --output ' + outdir + os.path.basename(file)[:-2] + str(snr) + '_seticore.dat'\n",
    "os.system(console)"
   ]
  },
  {
   "cell_type": "code",
   "execution_count": 35,
   "metadata": {},
   "outputs": [
    {
     "data": {
      "text/html": [
       "<div>\n",
       "<style scoped>\n",
       "    .dataframe tbody tr th:only-of-type {\n",
       "        vertical-align: middle;\n",
       "    }\n",
       "\n",
       "    .dataframe tbody tr th {\n",
       "        vertical-align: top;\n",
       "    }\n",
       "\n",
       "    .dataframe thead th {\n",
       "        text-align: right;\n",
       "    }\n",
       "</style>\n",
       "<table border=\"1\" class=\"dataframe\">\n",
       "  <thead>\n",
       "    <tr style=\"text-align: right;\">\n",
       "      <th></th>\n",
       "      <th>Top_Hit_#</th>\n",
       "      <th>Drift_Rate</th>\n",
       "      <th>SNR</th>\n",
       "      <th>Uncorrected_Frequency</th>\n",
       "      <th>Corrected_Frequency</th>\n",
       "      <th>Index</th>\n",
       "      <th>freq_start</th>\n",
       "      <th>freq_end</th>\n",
       "      <th>SEFD</th>\n",
       "      <th>SEFD_freq</th>\n",
       "      <th>Coarse_Channel_Number</th>\n",
       "      <th>Full_number_of_hits</th>\n",
       "    </tr>\n",
       "  </thead>\n",
       "  <tbody>\n",
       "    <tr>\n",
       "      <th>0</th>\n",
       "      <td>1</td>\n",
       "      <td>-0.367353</td>\n",
       "      <td>124.679672</td>\n",
       "      <td>8419.520186</td>\n",
       "      <td>8419.520186</td>\n",
       "      <td>668097</td>\n",
       "      <td>8419.520239</td>\n",
       "      <td>8419.520132</td>\n",
       "      <td>0.0</td>\n",
       "      <td>0.0</td>\n",
       "      <td>0</td>\n",
       "      <td>127</td>\n",
       "    </tr>\n",
       "    <tr>\n",
       "      <th>1</th>\n",
       "      <td>2</td>\n",
       "      <td>-0.367353</td>\n",
       "      <td>129.151337</td>\n",
       "      <td>8419.565180</td>\n",
       "      <td>8419.565180</td>\n",
       "      <td>651993</td>\n",
       "      <td>8419.565233</td>\n",
       "      <td>8419.565126</td>\n",
       "      <td>0.0</td>\n",
       "      <td>0.0</td>\n",
       "      <td>0</td>\n",
       "      <td>124</td>\n",
       "    </tr>\n",
       "    <tr>\n",
       "      <th>2</th>\n",
       "      <td>3</td>\n",
       "      <td>-0.367353</td>\n",
       "      <td>1085.123535</td>\n",
       "      <td>8419.542680</td>\n",
       "      <td>8419.542680</td>\n",
       "      <td>659988</td>\n",
       "      <td>8419.542734</td>\n",
       "      <td>8419.542626</td>\n",
       "      <td>0.0</td>\n",
       "      <td>0.0</td>\n",
       "      <td>0</td>\n",
       "      <td>8</td>\n",
       "    </tr>\n",
       "  </tbody>\n",
       "</table>\n",
       "</div>"
      ],
      "text/plain": [
       "   Top_Hit_#  Drift_Rate          SNR  Uncorrected_Frequency  \\\n",
       "0          1   -0.367353   124.679672            8419.520186   \n",
       "1          2   -0.367353   129.151337            8419.565180   \n",
       "2          3   -0.367353  1085.123535            8419.542680   \n",
       "\n",
       "   Corrected_Frequency   Index   freq_start     freq_end  SEFD  SEFD_freq  \\\n",
       "0          8419.520186  668097  8419.520239  8419.520132   0.0        0.0   \n",
       "1          8419.565180  651993  8419.565233  8419.565126   0.0        0.0   \n",
       "2          8419.542680  659988  8419.542734  8419.542626   0.0        0.0   \n",
       "\n",
       "   Coarse_Channel_Number  Full_number_of_hits  \n",
       "0                      0                  127  \n",
       "1                      0                  124  \n",
       "2                      0                    8  "
      ]
     },
     "execution_count": 35,
     "metadata": {},
     "output_type": "execute_result"
    }
   ],
   "source": [
    "dat = '/datax/scratch/benjb/single_coarse_guppi_59046_80036_DIAG_VOYAGER-1_0011.rawspec.0000_nosig_nosk_SNR_30_L1_30.dat'\n",
    "\n",
    "df = pd.read_table(dat, sep='\\s+', names=['Top_Hit_#','Drift_Rate','SNR','Uncorrected_Frequency','Corrected_Frequency',\n",
    "                                                'Index', 'freq_start', 'freq_end', 'SEFD', 'SEFD_freq', 'Coarse_Channel_Number', \n",
    "                                                'Full_number_of_hits'], skiprows=9)\n",
    "\n",
    "df"
   ]
  },
  {
   "cell_type": "code",
   "execution_count": 37,
   "metadata": {},
   "outputs": [
    {
     "data": {
      "image/png": "[encoded data removed]",
      "text/plain": [
       "<Figure size 432x288 with 1 Axes>"
      ]
     },
     "metadata": {
      "needs_background": "light"
     },
     "output_type": "display_data"
    }
   ],
   "source": [
    "plt.hist(df['freq_start'].values)\n",
    "plt.savefig('/datax/scratch/jliang/test.pdf')"
   ]
  }
 ],
 "metadata": {
  "kernelspec": {
   "display_name": "base",
   "language": "python",
   "name": "python3"
  },
  "language_info": {
   "codemirror_mode": {
    "name": "ipython",
    "version": 3
   },
   "file_extension": ".py",
   "mimetype": "text/x-python",
   "name": "python",
   "nbconvert_exporter": "python",
   "pygments_lexer": "ipython3",
   "version": "3.7.6"
  }
 },
 "nbformat": 4,
 "nbformat_minor": 2
}
