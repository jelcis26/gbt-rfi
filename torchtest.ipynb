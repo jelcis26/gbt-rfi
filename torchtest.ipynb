{
 "cells": [
  {
   "cell_type": "code",
   "execution_count": 1,
   "id": "aef2bf03",
   "metadata": {},
   "outputs": [],
   "source": [
    "import torch\n",
    "import numpy as np"
   ]
  },
  {
   "cell_type": "code",
   "execution_count": 2,
   "id": "fbcf10af",
   "metadata": {},
   "outputs": [
    {
     "name": "stdout",
     "output_type": "stream",
     "text": [
      "[[[0.48104078 0.9886241  0.93516508 0.93869377 0.07478584]\n",
      "  [0.50219388 0.56612147 0.41282936 0.11749506 0.41929409]\n",
      "  [0.32964968 0.42700359 0.77993928 0.23675756 0.47030766]\n",
      "  [0.1771731  0.31131502 0.52733955 0.76844008 0.69856172]]\n",
      "\n",
      " [[0.33902991 0.34740635 0.64285451 0.29661478 0.09219354]\n",
      "  [0.2487494  0.56033561 0.97582079 0.77896357 0.48700471]\n",
      "  [0.67911273 0.939073   0.56647162 0.22662938 0.25583513]\n",
      "  [0.60281104 0.28136471 0.31120474 0.1819649  0.9983617 ]]\n",
      "\n",
      " [[0.51361245 0.37858306 0.04374042 0.39881547 0.20343122]\n",
      "  [0.43983228 0.90790087 0.24748414 0.32083041 0.92237178]\n",
      "  [0.154679   0.44092193 0.848892   0.84391914 0.14303847]\n",
      "  [0.08604563 0.81619353 0.50808503 0.20671485 0.51555909]]]\n"
     ]
    }
   ],
   "source": [
    "a = np.random.rand(3, 4, 5)\n",
    "print(a)"
   ]
  },
  {
   "cell_type": "code",
   "execution_count": 3,
   "id": "ae079e1d",
   "metadata": {},
   "outputs": [
    {
     "name": "stdout",
     "output_type": "stream",
     "text": [
      "tensor([[0.8284, 0.8046, 0.6510],\n",
      "        [0.3212, 0.0335, 0.2827],\n",
      "        [0.3672, 0.4957, 0.1651],\n",
      "        [0.9344, 0.8643, 0.8721],\n",
      "        [0.7822, 0.7900, 0.9538]])\n"
     ]
    }
   ],
   "source": [
    "x = torch.rand(5, 3)\n",
    "print(x)"
   ]
  }
 ],
 "metadata": {
  "kernelspec": {
   "display_name": "base",
   "language": "python",
   "name": "python3"
  },
  "language_info": {
   "codemirror_mode": {
    "name": "ipython",
    "version": 3
   },
   "file_extension": ".py",
   "mimetype": "text/x-python",
   "name": "python",
   "nbconvert_exporter": "python",
   "pygments_lexer": "ipython3",
   "version": "3.7.6"
  }
 },
 "nbformat": 4,
 "nbformat_minor": 5
}
