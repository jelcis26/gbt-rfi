{
 "cells": [
  {
   "cell_type": "code",
   "execution_count": 2,
   "id": "81525eb9",
   "metadata": {},
   "outputs": [
    {
     "name": "stdout",
     "output_type": "stream",
     "text": [
      "Renamed: 03d40d7c-img_00097.txt → img_00097.txt\n",
      "Renamed: 0f01ccf8-img_00014.txt → img_00014.txt\n",
      "Renamed: 1c7cb90e-img_00029.txt → img_00029.txt\n",
      "Renamed: 2bbd6116-img_00069.txt → img_00069.txt\n",
      "Renamed: 328474a7-img_00003.txt → img_00003.txt\n",
      "Renamed: 5016c4f4-img_00086.txt → img_00086.txt\n",
      "Renamed: 594a0d53-img_00088.txt → img_00088.txt\n",
      "Renamed: 62ed0211-img_00011.txt → img_00011.txt\n",
      "Renamed: 66a297b8-img_00028.txt → img_00028.txt\n",
      "Renamed: 69ffd3d1-img_00075.txt → img_00075.txt\n",
      "Renamed: 9d7c6ab4-img_00017.txt → img_00017.txt\n",
      "Renamed: a1851e49-img_00035.txt → img_00035.txt\n",
      "Renamed: a48d8ebb-img_00027.txt → img_00027.txt\n",
      "Renamed: bbe6f7eb-img_00031.txt → img_00031.txt\n",
      "Renamed: bca05ac3-img_00081.txt → img_00081.txt\n",
      "Renamed: c2b442f9-img_00094.txt → img_00094.txt\n",
      "Renamed: c5681db3-img_00013.txt → img_00013.txt\n",
      "Renamed: d62598d3-img_00004.txt → img_00004.txt\n",
      "Renamed: dd7384a2-img_00064.txt → img_00064.txt\n",
      "Renamed: e87dfdb1-img_00054.txt → img_00054.txt\n"
     ]
    }
   ],
   "source": [
    "import os\n",
    "\n",
    "label_dir = '/datax/scratch/jliang/hand_label_masking_dataset/val/labels'  # <-- replace this\n",
    "\n",
    "for fname in os.listdir(label_dir):\n",
    "    if fname.endswith('.txt') and 'img_' in fname:\n",
    "        old_path = os.path.join(label_dir, fname)\n",
    "        new_name = fname[fname.find('img_'):]  # strips prefix\n",
    "        new_path = os.path.join(label_dir, new_name)\n",
    "        os.rename(old_path, new_path)\n",
    "        print(f\"Renamed: {fname} → {new_name}\")\n"
   ]
  }
 ],
 "metadata": {
  "kernelspec": {
   "display_name": "base",
   "language": "python",
   "name": "python3"
  },
  "language_info": {
   "codemirror_mode": {
    "name": "ipython",
    "version": 3
   },
   "file_extension": ".py",
   "mimetype": "text/x-python",
   "name": "python",
   "nbconvert_exporter": "python",
   "pygments_lexer": "ipython3",
   "version": "3.7.6"
  }
 },
 "nbformat": 4,
 "nbformat_minor": 5
}
