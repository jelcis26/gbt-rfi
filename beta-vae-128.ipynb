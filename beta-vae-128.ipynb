{
 "cells": [
  {
   "cell_type": "code",
   "execution_count": 1,
   "id": "1d7a1cbf",
   "metadata": {},
   "outputs": [
    {
     "name": "stdout",
     "output_type": "stream",
     "text": [
      "Requirement already satisfied: torch in /home/jliang/.conda/envs/torch/lib/python3.12/site-packages (2.7.1)\n",
      "Requirement already satisfied: torchvision in /home/jliang/.conda/envs/torch/lib/python3.12/site-packages (0.22.1)\n",
      "Requirement already satisfied: filelock in /home/jliang/.conda/envs/torch/lib/python3.12/site-packages (from torch) (3.18.0)\n",
      "Requirement already satisfied: typing-extensions>=4.10.0 in /home/jliang/.conda/envs/torch/lib/python3.12/site-packages (from torch) (4.14.0)\n",
      "Requirement already satisfied: setuptools in /home/jliang/.conda/envs/torch/lib/python3.12/site-packages (from torch) (78.1.1)\n",
      "Requirement already satisfied: sympy>=1.13.3 in /home/jliang/.conda/envs/torch/lib/python3.12/site-packages (from torch) (1.14.0)\n",
      "Requirement already satisfied: networkx in /home/jliang/.conda/envs/torch/lib/python3.12/site-packages (from torch) (3.5)\n",
      "Requirement already satisfied: jinja2 in /home/jliang/.conda/envs/torch/lib/python3.12/site-packages (from torch) (3.1.6)\n",
      "Requirement already satisfied: fsspec in /home/jliang/.conda/envs/torch/lib/python3.12/site-packages (from torch) (2025.5.1)\n",
      "Requirement already satisfied: nvidia-cuda-nvrtc-cu12==12.6.77 in /home/jliang/.conda/envs/torch/lib/python3.12/site-packages (from torch) (12.6.77)\n",
      "Requirement already satisfied: nvidia-cuda-runtime-cu12==12.6.77 in /home/jliang/.conda/envs/torch/lib/python3.12/site-packages (from torch) (12.6.77)\n",
      "Requirement already satisfied: nvidia-cuda-cupti-cu12==12.6.80 in /home/jliang/.conda/envs/torch/lib/python3.12/site-packages (from torch) (12.6.80)\n",
      "Requirement already satisfied: nvidia-cudnn-cu12==9.5.1.17 in /home/jliang/.conda/envs/torch/lib/python3.12/site-packages (from torch) (9.5.1.17)\n",
      "Requirement already satisfied: nvidia-cublas-cu12==12.6.4.1 in /home/jliang/.conda/envs/torch/lib/python3.12/site-packages (from torch) (12.6.4.1)\n",
      "Requirement already satisfied: nvidia-cufft-cu12==11.3.0.4 in /home/jliang/.conda/envs/torch/lib/python3.12/site-packages (from torch) (11.3.0.4)\n",
      "Requirement already satisfied: nvidia-curand-cu12==10.3.7.77 in /home/jliang/.conda/envs/torch/lib/python3.12/site-packages (from torch) (10.3.7.77)\n",
      "Requirement already satisfied: nvidia-cusolver-cu12==11.7.1.2 in /home/jliang/.conda/envs/torch/lib/python3.12/site-packages (from torch) (11.7.1.2)\n",
      "Requirement already satisfied: nvidia-cusparse-cu12==12.5.4.2 in /home/jliang/.conda/envs/torch/lib/python3.12/site-packages (from torch) (12.5.4.2)\n",
      "Requirement already satisfied: nvidia-cusparselt-cu12==0.6.3 in /home/jliang/.conda/envs/torch/lib/python3.12/site-packages (from torch) (0.6.3)\n",
      "Requirement already satisfied: nvidia-nccl-cu12==2.26.2 in /home/jliang/.conda/envs/torch/lib/python3.12/site-packages (from torch) (2.26.2)\n",
      "Requirement already satisfied: nvidia-nvtx-cu12==12.6.77 in /home/jliang/.conda/envs/torch/lib/python3.12/site-packages (from torch) (12.6.77)\n",
      "Requirement already satisfied: nvidia-nvjitlink-cu12==12.6.85 in /home/jliang/.conda/envs/torch/lib/python3.12/site-packages (from torch) (12.6.85)\n",
      "Requirement already satisfied: nvidia-cufile-cu12==1.11.1.6 in /home/jliang/.conda/envs/torch/lib/python3.12/site-packages (from torch) (1.11.1.6)\n",
      "Requirement already satisfied: triton==3.3.1 in /home/jliang/.conda/envs/torch/lib/python3.12/site-packages (from torch) (3.3.1)\n",
      "Requirement already satisfied: numpy in /home/jliang/.conda/envs/torch/lib/python3.12/site-packages (from torchvision) (2.2.6)\n",
      "Requirement already satisfied: pillow!=8.3.*,>=5.3.0 in /home/jliang/.conda/envs/torch/lib/python3.12/site-packages (from torchvision) (11.1.0)\n",
      "Requirement already satisfied: mpmath<1.4,>=1.1.0 in /home/jliang/.conda/envs/torch/lib/python3.12/site-packages (from sympy>=1.13.3->torch) (1.3.0)\n",
      "Requirement already satisfied: MarkupSafe>=2.0 in /home/jliang/.conda/envs/torch/lib/python3.12/site-packages (from jinja2->torch) (3.0.2)\n",
      "Note: you may need to restart the kernel to use updated packages.\n",
      "Requirement already satisfied: umap-learn in /home/jliang/.conda/envs/torch/lib/python3.12/site-packages (0.5.9.post2)\n",
      "Requirement already satisfied: numpy>=1.23 in /home/jliang/.conda/envs/torch/lib/python3.12/site-packages (from umap-learn) (2.2.6)\n",
      "Requirement already satisfied: scipy>=1.3.1 in /home/jliang/.conda/envs/torch/lib/python3.12/site-packages (from umap-learn) (1.15.3)\n",
      "Requirement already satisfied: scikit-learn>=1.6 in /home/jliang/.conda/envs/torch/lib/python3.12/site-packages (from umap-learn) (1.7.0)\n",
      "Requirement already satisfied: numba>=0.51.2 in /home/jliang/.conda/envs/torch/lib/python3.12/site-packages (from umap-learn) (0.61.2)\n",
      "Requirement already satisfied: pynndescent>=0.5 in /home/jliang/.conda/envs/torch/lib/python3.12/site-packages (from umap-learn) (0.5.13)\n",
      "Requirement already satisfied: tqdm in /home/jliang/.conda/envs/torch/lib/python3.12/site-packages (from umap-learn) (4.67.1)\n",
      "Requirement already satisfied: llvmlite<0.45,>=0.44.0dev0 in /home/jliang/.conda/envs/torch/lib/python3.12/site-packages (from numba>=0.51.2->umap-learn) (0.44.0)\n",
      "Requirement already satisfied: joblib>=0.11 in /home/jliang/.conda/envs/torch/lib/python3.12/site-packages (from pynndescent>=0.5->umap-learn) (1.5.1)\n",
      "Requirement already satisfied: threadpoolctl>=3.1.0 in /home/jliang/.conda/envs/torch/lib/python3.12/site-packages (from scikit-learn>=1.6->umap-learn) (3.6.0)\n",
      "Note: you may need to restart the kernel to use updated packages.\n"
     ]
    },
    {
     "name": "stderr",
     "output_type": "stream",
     "text": [
      "/home/jliang/.conda/envs/torch/lib/python3.12/site-packages/tqdm/auto.py:21: TqdmWarning: IProgress not found. Please update jupyter and ipywidgets. See https://ipywidgets.readthedocs.io/en/stable/user_install.html\n",
      "  from .autonotebook import tqdm as notebook_tqdm\n"
     ]
    }
   ],
   "source": [
    "%pip install torch torchvision\n",
    "%pip install umap-learn\n",
    "\n",
    "import torch\n",
    "import torch.nn as nn\n",
    "import torch.nn.functional as F\n",
    "from torchvision import transforms, utils\n",
    "from torch.utils.data import Dataset, DataLoader\n",
    "from PIL import Image\n",
    "import matplotlib.pyplot as plt\n",
    "from glob import glob\n",
    "import os\n",
    "from sklearn.manifold import TSNE\n",
    "import umap.umap_ as umap\n",
    "import re\n",
    "import numpy as np\n",
    "from torch.optim import Adam\n",
    "from torch.optim.lr_scheduler import ReduceLROnPlateau\n",
    "import torchvision.transforms as T\n",
    "from PIL import ImageDraw"
   ]
  },
  {
   "cell_type": "code",
   "execution_count": null,
   "id": "855c79cd",
   "metadata": {},
   "outputs": [],
   "source": [
    "# ─── Hyperparameters ──────────────────────────────────────────────────────\n",
    "IMAGE_SIZE     = 224\n",
    "IMAGE_CHANNELS = 3\n",
    "LATENT_DIM     = 128\n",
    "BATCH_SIZE     = 32\n",
    "LR             = 1e-4\n",
    "EPOCHS         = 20\n",
    "DEVICE         = torch.device(\"cuda\" if torch.cuda.is_available() else \"cpu\")\n",
    "TRAIN_IMG_DIR = '/datax/scratch/jliang/dataset_final_small/train/images'\n",
    "VAL_IMG_DIR   = '/datax/scratch/jliang/dataset_final_small/val/images'\n",
    "TRAIN_LBL_DIR = '/datax/scratch/jliang/dataset_final_small/train/labels'\n",
    "VAL_LBL_DIR   = '/datax/scratch/jliang/dataset_final_small/val/labels'\n",
    "IMG_SIZE = (224, 224)"
   ]
  },
  {
   "cell_type": "code",
   "execution_count": 3,
   "id": "3e9fb9a0",
   "metadata": {},
   "outputs": [],
   "source": [
    "import re\n",
    "from PIL import Image, UnidentifiedImageError\n",
    "\n",
    "class YoloMaskDataset(Dataset):\n",
    "    def __init__(self, images_dir, labels_dir, img_size, transform=None):\n",
    "        # … your existing __init__ up through building self.images/self.labels …\n",
    "        self.images = sorted(glob(os.path.join(images_dir, \"*.*\")))\n",
    "        self.labels = [\n",
    "            os.path.join(labels_dir, os.path.splitext(os.path.basename(p))[0] + \".txt\")\n",
    "            for p in self.images\n",
    "        ]\n",
    "        self.transform = transform or T.Compose([\n",
    "            T.Resize(img_size),\n",
    "            T.ToTensor(),\n",
    "        ])\n",
    "        # optionally: compute global min/max f to normalize later\n",
    "        freqs = []\n",
    "        pat = re.compile(r\"_f_(?P<fs>[\\d\\.]+)_(?P<fe>[\\d\\.]+)\")\n",
    "        for p in self.images:\n",
    "            m = pat.search(os.path.basename(p))\n",
    "            if m:\n",
    "                freqs += [float(m.group(\"fs\").rstrip(\".\")), float(m.group(\"fe\").rstrip(\".\"))]\n",
    "        self.fmin, self.fmax = min(freqs), max(freqs)\n",
    "\n",
    "    def __len__(self):\n",
    "        return len(self.images)\n",
    "\n",
    "    def __getitem__(self, idx):\n",
    "        img_path = self.images[idx]\n",
    "        lbl_path = self.labels[idx]\n",
    "\n",
    "        # — load image & mask (unchanged) —\n",
    "        img = Image.open(img_path).convert(\"RGB\")\n",
    "        W, H = img.size\n",
    "        mask = Image.new(\"L\", (W, H), 0)\n",
    "        draw = ImageDraw.Draw(mask)\n",
    "        with open(lbl_path) as f:\n",
    "            for line in f:\n",
    "                _, xc, yc, w, h = line.strip().split()\n",
    "                xc, yc, w, h = map(float, (xc, yc, w, h))\n",
    "                x0 = (xc - w/2) * W\n",
    "                y0 = (yc - h/2) * H\n",
    "                x1 = (xc + w/2) * W\n",
    "                y1 = (yc + h/2) * H\n",
    "                draw.rectangle([x0, y0, x1, y1], fill=1)\n",
    "\n",
    "        img_t  = self.transform(img)\n",
    "        mask_t = self.transform(mask).float()\n",
    "\n",
    "        # — robustly parse f_start, f_end from filename —\n",
    "        fname = os.path.basename(img_path)\n",
    "        name_no_ext, _ = os.path.splitext(fname)\n",
    "        try:\n",
    "            # everything after \"_f_\":\n",
    "            freqs_str = name_no_ext.split(\"_f_\")[1]\n",
    "            # split into two parts only\n",
    "            fstart_str, fend_str = freqs_str.split(\"_\", 1)\n",
    "            # strip any trailing dots (e.g. \"1539.5536.\" → \"1539.5536\")\n",
    "            fstart_str = fstart_str.rstrip(\".\")\n",
    "            fend_str   = fend_str.rstrip(\".\")\n",
    "            f_start = float(fstart_str)\n",
    "            f_end   = float(fend_str)\n",
    "        except Exception as e:\n",
    "            raise ValueError(f\"Could not parse f_start/f_end from '{fname}'\") from e\n",
    "\n",
    "        # — normalize into [0,1], if desired —\n",
    "        norm_fs = (f_start - self.fmin) / (self.fmax - self.fmin)\n",
    "        norm_fe = (f_end   - self.fmin) / (self.fmax - self.fmin)\n",
    "        cond = torch.tensor([norm_fs, norm_fe], dtype=torch.float32)\n",
    "\n",
    "        return img_t, mask_t, cond"
   ]
  },
  {
   "cell_type": "code",
   "execution_count": 4,
   "id": "3443ca43",
   "metadata": {},
   "outputs": [],
   "source": [
    "# # ─── Custom Dataset for YOLO Cropped Boxes ─────────────────────────────────\n",
    "# class YOLOCropDataset(Dataset):\n",
    "#     def __init__(self, image_dir, label_dir, transform=None):\n",
    "#         self.samples = []\n",
    "#         self.transform = transform\n",
    "#         for img_path in sorted(glob.glob(os.path.join(image_dir, \"*.png\"))):\n",
    "#             base = os.path.splitext(os.path.basename(img_path))[0]\n",
    "#             txt_path = os.path.join(label_dir, base + \".txt\")\n",
    "#             if not os.path.exists(txt_path):\n",
    "#                 continue\n",
    "#             img = Image.open(img_path)\n",
    "#             W, H = img.size\n",
    "#             with open(txt_path) as f:\n",
    "#                 for line in f:\n",
    "#                     parts = line.strip().split()\n",
    "#                     if len(parts) < 5:\n",
    "#                         continue\n",
    "#                     _, x_c, y_c, w, h = parts\n",
    "#                     x_c, y_c, w, h = map(float, (x_c, y_c, w, h))\n",
    "#                     x0 = int((x_c - w/2) * W)\n",
    "#                     y0 = int((y_c - h/2) * H)\n",
    "#                     x1 = int((x_c + w/2) * W)\n",
    "#                     y1 = int((y_c + h/2) * H)\n",
    "#                     self.samples.append((img_path, (x0, y0, x1, y1)))\n",
    "#         if len(self.samples) == 0:\n",
    "#             raise RuntimeError(\"No YOLO crops found. Check image_dir/label_dir.\")\n",
    "\n",
    "#     def __len__(self):\n",
    "#         return len(self.samples)\n",
    "\n",
    "#     def __getitem__(self, idx):\n",
    "#         img_path, box = self.samples[idx]\n",
    "#         img = Image.open(img_path).convert(\"RGB\")\n",
    "#         crop = img.crop(box)\n",
    "#         if self.transform:\n",
    "#             crop = self.transform(crop)\n",
    "#         return crop, img_path\n",
    "\n",
    "# class YOLOCropDatasetWithPath(YOLOCropDataset):\n",
    "#     def __getitem__(self, idx):\n",
    "#         img_path, box = self.samples[idx]\n",
    "#         img = Image.open(img_path).convert(\"RGB\")\n",
    "#         crop = img.crop(box)\n",
    "#         if self.transform:\n",
    "#             crop = self.transform(crop)\n",
    "#         return crop, img_path\n",
    "    \n",
    "# # ─── Transforms ────────────────────────────────────────────────────────────\n",
    "# transform = transforms.Compose([\n",
    "#     transforms.Resize((IMAGE_SIZE, IMAGE_SIZE)),\n",
    "#     transforms.ToTensor(),\n",
    "# ])\n",
    "\n",
    "# # ─── Instantiate Datasets & Loaders ───────────────────────────────────────\n",
    "# train_dataset = YOLOCropDataset(\"/datax/scratch/jliang/dataset_final_small/train/images\", \"/datax/scratch/jliang/dataset_final_small/train/labels\", transform)\n",
    "# test_dataset  = YOLOCropDataset(\"/datax/scratch/jliang/dataset_final_small/val/images\", \"/datax/scratch/jliang/dataset_final_small/val/labels\", transform)\n",
    "# train_loader  = DataLoader(train_dataset, batch_size=BATCH_SIZE, shuffle=True,  num_workers=4, pin_memory=True)\n",
    "# test_loader   = DataLoader(test_dataset,  batch_size=BATCH_SIZE, shuffle=False, num_workers=4, pin_memory=True)\n",
    "# full_ds = YOLOCropDatasetWithPath(\n",
    "#     \"/datax/scratch/jliang/dataset_final_small/train/images\", \"/datax/scratch/jliang/dataset_final_small/train/labels\", transform\n",
    "# )\n",
    "# full_dl = DataLoader(full_ds, batch_size=64, shuffle=False, num_workers=4)\n"
   ]
  },
  {
   "cell_type": "code",
   "execution_count": null,
   "id": "2916763d",
   "metadata": {},
   "outputs": [],
   "source": [
    "class MaCVAE(nn.Module):\n",
    "    def __init__(self, in_ch=3, latent_dim=LATENT_DIM, beta=1.5, cond_dim=2):\n",
    "        super().__init__()\n",
    "        # Encoder CNN\n",
    "        channels = [16, 32, 16, 32, 64, 128, 64, 128]\n",
    "        layers = []\n",
    "        c_in = in_ch\n",
    "        for c_out in channels:\n",
    "            layers += [\n",
    "                nn.Conv2d(c_in, c_out, kernel_size=3, stride=2, padding=1),\n",
    "                nn.ReLU(inplace=True)\n",
    "            ]\n",
    "            c_in = c_out\n",
    "        self.encoder_cnn = nn.Sequential(*layers)\n",
    "\n",
    "        # Compute flattened dimension\n",
    "        with torch.no_grad():\n",
    "            x0 = torch.zeros(1, in_ch, IMAGE_SIZE, IMAGE_SIZE)\n",
    "            flat_dim = self.encoder_cnn(x0).numel()\n",
    "\n",
    "        # Bottleneck layers (conditional)\n",
    "        self.fc_mu     = nn.Linear(flat_dim + cond_dim, latent_dim)\n",
    "        self.fc_logvar = nn.Linear(flat_dim + cond_dim, latent_dim)\n",
    "\n",
    "        # Decoder fc (conditional)\n",
    "        self.fc_dec = nn.Linear(latent_dim + cond_dim, flat_dim)\n",
    "\n",
    "        # Decoder CNN transpose\n",
    "        deconv = []\n",
    "        c_in = channels[-1]\n",
    "        for c_out in reversed(channels[:-1]):\n",
    "            deconv += [\n",
    "                nn.ConvTranspose2d(c_in, c_out, 3, 2, 1, output_padding=1),\n",
    "                nn.ReLU(inplace=True)\n",
    "            ]\n",
    "            c_in = c_out\n",
    "        deconv.append(nn.ConvTranspose2d(c_in, in_ch, 3, 2, 1, output_padding=1))\n",
    "        self.decoder_cnn = nn.Sequential(*deconv)\n",
    "\n",
    "        self.beta = beta\n",
    "\n",
    "    def encode(self, x, cond):\n",
    "        h = self.encoder_cnn(x).flatten(1)\n",
    "        h = torch.cat([h, cond], dim=1)\n",
    "        return self.fc_mu(h), self.fc_logvar(h)\n",
    "\n",
    "    def reparam(self, mu, logvar):\n",
    "        sigma = (0.5 * logvar).exp()\n",
    "        return mu + sigma * torch.randn_like(sigma)\n",
    "\n",
    "    def decode(self, z, cond):\n",
    "        zc = torch.cat([z, cond], dim=1)\n",
    "        h = self.fc_dec(zc).view(z.size(0), -1, 1, 1)\n",
    "        out = self.decoder_cnn(h)\n",
    "        out = F.interpolate(\n",
    "            out,\n",
    "            size=(IMAGE_SIZE, IMAGE_SIZE),\n",
    "            mode=\"bilinear\",\n",
    "            align_corners=False\n",
    "        )\n",
    "        return out\n",
    "\n",
    "    def forward(self, x, cond):\n",
    "        mu, logvar = self.encode(x, cond)\n",
    "        z = self.reparam(mu, logvar)\n",
    "        recon = self.decode(z, cond)\n",
    "        return recon, mu, logvar\n",
    "\n",
    "    def loss(self, recon, x, mu, logvar):\n",
    "        rec = F.mse_loss(recon, x, reduction='mean')\n",
    "        kld = -0.5 * torch.sum(1 + logvar - mu.pow(2) - logvar.exp()) / x.size(0)\n",
    "        return rec + self.beta * kld"
   ]
  },
  {
   "cell_type": "code",
   "execution_count": 6,
   "id": "2d93e065",
   "metadata": {},
   "outputs": [],
   "source": [
    "# class MaVAE(nn.Module):\n",
    "#     def __init__(self, in_ch=3, latent_dim=8, beta=1.5):\n",
    "#         super().__init__()\n",
    "#         layers = []\n",
    "#         # 8 conv layers: two reps of [16→32→64→128]\n",
    "#         channels = [16,32,16,32,64,128,64,128]\n",
    "#         c_in = in_ch\n",
    "#         for c_out in channels:\n",
    "#             layers += [nn.Conv2d(c_in, c_out, kernel_size=3, stride=2, padding=1),\n",
    "#                        nn.ReLU(inplace=True)]\n",
    "#             c_in = c_out\n",
    "#         self.encoder_cnn = nn.Sequential(*layers)\n",
    "#         # compute flattened dim\n",
    "#         with torch.no_grad():\n",
    "#             x = torch.zeros(1, in_ch, IMAGE_SIZE, IMAGE_SIZE)\n",
    "#             flat_dim = self.encoder_cnn(x).numel()\n",
    "#         # bottleneck\n",
    "#         self.fc_mu     = nn.Linear(flat_dim, latent_dim)\n",
    "#         self.fc_logvar = nn.Linear(flat_dim, latent_dim)\n",
    "#         # decoder\n",
    "#         self.fc_dec    = nn.Linear(latent_dim, flat_dim)\n",
    "#         # mirror decoder conv-transpose stack\n",
    "#         deconv_layers = []\n",
    "#         for c_out in reversed(channels[:-1]):\n",
    "#             deconv_layers += [\n",
    "#               nn.ConvTranspose2d(c_in, c_out, 3, 2, 1, output_padding=1),\n",
    "#               nn.ReLU(inplace=True)\n",
    "#             ]\n",
    "#             c_in = c_out\n",
    "#         deconv_layers.append(nn.ConvTranspose2d(c_in, in_ch, 3, 2, 1, output_padding=1))\n",
    "#         self.decoder_cnn = nn.Sequential(*deconv_layers)\n",
    "#         self.beta = beta\n",
    "\n",
    "#     def encode(self, x):\n",
    "#         h = self.encoder_cnn(x).flatten(1)\n",
    "#         return self.fc_mu(h), self.fc_logvar(h)\n",
    "\n",
    "#     def reparam(self, mu, log_sigma):\n",
    "#         sigma = (0.5*log_sigma).exp()\n",
    "#         return mu + sigma*torch.randn_like(sigma)\n",
    "\n",
    "#     def decode(self, z):\n",
    "#         h   = self.fc_dec(z).view(z.size(0), -1, 1, 1)\n",
    "#         out = self.decoder_cnn(h)                # currently [B, 3, 256,256]\n",
    "#         out = F.interpolate(\n",
    "#             out,\n",
    "#             size=(IMAGE_SIZE, IMAGE_SIZE),\n",
    "#             mode=\"bilinear\",\n",
    "#             align_corners=False\n",
    "#         )                                        # now [B, 3, 224,224]\n",
    "#         return out\n",
    "\n",
    "#     def forward(self, x):\n",
    "#         mu, log_sigma = self.encode(x)\n",
    "#         z       = self.reparam(mu, log_sigma)\n",
    "#         recon   = self.decode(z)\n",
    "#         return recon, mu, log_sigma\n",
    "\n",
    "#     def loss(self, recon, x, mu, log_sigma):\n",
    "#         rec = F.mse_loss(recon, x, reduction='mean')\n",
    "#         kld = -0.5 * torch.sum(1 + log_sigma - mu.pow(2) - log_sigma.exp()) / x.size(0)\n",
    "#         return rec + self.beta * kld\n"
   ]
  },
  {
   "cell_type": "code",
   "execution_count": 7,
   "id": "77110aea",
   "metadata": {},
   "outputs": [],
   "source": [
    "from torch.utils.data import DataLoader\n",
    "from torch.optim import Adam\n",
    "from torch.optim.lr_scheduler import ReduceLROnPlateau\n",
    "\n",
    "# --- assuming these are already defined somewhere above: ---\n",
    "# DATA_DIR, TRAIN_IMG_DIR, TRAIN_LBL_DIR, VAL_IMG_DIR, VAL_LBL_DIR\n",
    "# IMG_SIZE, BATCH_SIZE, LR, DEVICE, model (MaCVAE instance)\n",
    "\n",
    "# 1) Datasets + DataLoaders\n",
    "train_ds = YoloMaskDataset(\n",
    "    TRAIN_IMG_DIR,\n",
    "    TRAIN_LBL_DIR,\n",
    "    IMG_SIZE,\n",
    "    transform=T.Compose([\n",
    "        T.Resize(IMG_SIZE),\n",
    "        T.ToTensor(),\n",
    "    ])\n",
    ")\n",
    "val_ds = YoloMaskDataset(\n",
    "    VAL_IMG_DIR,\n",
    "    VAL_LBL_DIR,\n",
    "    IMG_SIZE,\n",
    "    transform=T.Compose([\n",
    "        T.Resize(IMG_SIZE),\n",
    "        T.ToTensor(),\n",
    "    ])\n",
    ")\n",
    "\n",
    "train_dl = DataLoader(\n",
    "    train_ds,\n",
    "    batch_size=BATCH_SIZE,\n",
    "    shuffle=True,\n",
    "    num_workers=2,\n",
    "    pin_memory=True\n",
    ")\n",
    "val_dl = DataLoader(\n",
    "    val_ds,\n",
    "    batch_size=BATCH_SIZE,\n",
    "    shuffle=False,\n",
    "    num_workers=2,\n",
    "    pin_memory=True\n",
    ")\n"
   ]
  },
  {
   "cell_type": "code",
   "execution_count": 8,
   "id": "338f734b",
   "metadata": {},
   "outputs": [
    {
     "name": "stderr",
     "output_type": "stream",
     "text": [
      "                                                                     \r"
     ]
    },
    {
     "name": "stdout",
     "output_type": "stream",
     "text": [
      "Epoch 1/20 — Train: 0.2242, Val: 0.0632\n",
      "→ New best model saved.\n"
     ]
    },
    {
     "name": "stderr",
     "output_type": "stream",
     "text": [
      "                                                                     \r"
     ]
    },
    {
     "name": "stdout",
     "output_type": "stream",
     "text": [
      "Epoch 2/20 — Train: 0.0418, Val: 0.0443\n",
      "→ New best model saved.\n"
     ]
    },
    {
     "name": "stderr",
     "output_type": "stream",
     "text": [
      "                                                                     \r"
     ]
    },
    {
     "name": "stdout",
     "output_type": "stream",
     "text": [
      "Epoch 3/20 — Train: 0.0318, Val: 0.0333\n",
      "→ New best model saved.\n"
     ]
    },
    {
     "name": "stderr",
     "output_type": "stream",
     "text": [
      "                                                                     \r"
     ]
    },
    {
     "name": "stdout",
     "output_type": "stream",
     "text": [
      "Epoch 4/20 — Train: 0.0252, Val: 0.0251\n",
      "→ New best model saved.\n"
     ]
    },
    {
     "name": "stderr",
     "output_type": "stream",
     "text": [
      "                                                                     \r"
     ]
    },
    {
     "name": "stdout",
     "output_type": "stream",
     "text": [
      "Epoch 5/20 — Train: 0.0204, Val: 0.0201\n",
      "→ New best model saved.\n"
     ]
    },
    {
     "name": "stderr",
     "output_type": "stream",
     "text": [
      "                                                                     \r"
     ]
    },
    {
     "name": "stdout",
     "output_type": "stream",
     "text": [
      "Epoch 6/20 — Train: 0.0168, Val: 0.0155\n",
      "→ New best model saved.\n"
     ]
    },
    {
     "name": "stderr",
     "output_type": "stream",
     "text": [
      "                                                                     \r"
     ]
    },
    {
     "name": "stdout",
     "output_type": "stream",
     "text": [
      "Epoch 7/20 — Train: 0.0139, Val: 0.0124\n",
      "→ New best model saved.\n"
     ]
    },
    {
     "name": "stderr",
     "output_type": "stream",
     "text": [
      "                                                                     \r"
     ]
    },
    {
     "name": "stdout",
     "output_type": "stream",
     "text": [
      "Epoch 8/20 — Train: 0.0115, Val: 0.0092\n",
      "→ New best model saved.\n"
     ]
    },
    {
     "name": "stderr",
     "output_type": "stream",
     "text": [
      "                                                                     \r"
     ]
    },
    {
     "name": "stdout",
     "output_type": "stream",
     "text": [
      "Epoch 9/20 — Train: 0.0097, Val: 0.0071\n",
      "→ New best model saved.\n"
     ]
    },
    {
     "name": "stderr",
     "output_type": "stream",
     "text": [
      "                                                                      \r"
     ]
    },
    {
     "name": "stdout",
     "output_type": "stream",
     "text": [
      "Epoch 10/20 — Train: 0.0084, Val: 0.0056\n",
      "→ New best model saved.\n"
     ]
    },
    {
     "name": "stderr",
     "output_type": "stream",
     "text": [
      "                                                                      \r"
     ]
    },
    {
     "name": "stdout",
     "output_type": "stream",
     "text": [
      "Epoch 11/20 — Train: 0.0078, Val: 0.0055\n",
      "→ New best model saved.\n"
     ]
    },
    {
     "name": "stderr",
     "output_type": "stream",
     "text": [
      "                                                                      \r"
     ]
    },
    {
     "name": "stdout",
     "output_type": "stream",
     "text": [
      "Epoch 12/20 — Train: 0.0076, Val: 0.0052\n",
      "→ New best model saved.\n"
     ]
    },
    {
     "name": "stderr",
     "output_type": "stream",
     "text": [
      "                                                                      \r"
     ]
    },
    {
     "name": "stdout",
     "output_type": "stream",
     "text": [
      "Epoch 13/20 — Train: 0.0074, Val: 0.0051\n",
      "→ New best model saved.\n"
     ]
    },
    {
     "name": "stderr",
     "output_type": "stream",
     "text": [
      "                                                                      \r"
     ]
    },
    {
     "name": "stdout",
     "output_type": "stream",
     "text": [
      "Epoch 14/20 — Train: 0.0073, Val: 0.0049\n",
      "→ New best model saved.\n"
     ]
    },
    {
     "name": "stderr",
     "output_type": "stream",
     "text": [
      "                                                                      \r"
     ]
    },
    {
     "name": "stdout",
     "output_type": "stream",
     "text": [
      "Epoch 15/20 — Train: 0.0073, Val: 0.0048\n",
      "→ New best model saved.\n"
     ]
    },
    {
     "name": "stderr",
     "output_type": "stream",
     "text": [
      "                                                                      \r"
     ]
    },
    {
     "name": "stdout",
     "output_type": "stream",
     "text": [
      "Epoch 16/20 — Train: 0.0072, Val: 0.0047\n",
      "→ New best model saved.\n"
     ]
    },
    {
     "name": "stderr",
     "output_type": "stream",
     "text": [
      "                                                                      \r"
     ]
    },
    {
     "name": "stdout",
     "output_type": "stream",
     "text": [
      "Epoch 17/20 — Train: 0.0072, Val: 0.0047\n",
      "→ New best model saved.\n"
     ]
    },
    {
     "name": "stderr",
     "output_type": "stream",
     "text": [
      "                                                                      \r"
     ]
    },
    {
     "name": "stdout",
     "output_type": "stream",
     "text": [
      "Epoch 18/20 — Train: 0.0071, Val: 0.0046\n",
      "→ New best model saved.\n"
     ]
    },
    {
     "name": "stderr",
     "output_type": "stream",
     "text": [
      "                                                                      \r"
     ]
    },
    {
     "name": "stdout",
     "output_type": "stream",
     "text": [
      "Epoch 19/20 — Train: 0.0071, Val: 0.0045\n",
      "→ New best model saved.\n"
     ]
    },
    {
     "name": "stderr",
     "output_type": "stream",
     "text": [
      "                                                                      "
     ]
    },
    {
     "name": "stdout",
     "output_type": "stream",
     "text": [
      "Epoch 20/20 — Train: 0.0070, Val: 0.0044\n",
      "→ New best model saved.\n"
     ]
    },
    {
     "name": "stderr",
     "output_type": "stream",
     "text": [
      "\r"
     ]
    }
   ],
   "source": [
    "import os\n",
    "import torch\n",
    "import torch.nn.functional as F\n",
    "from tqdm import tqdm\n",
    "\n",
    "# Assumes `model` is your MaCVAE, and `train_dl`, `val_dl`, `optimizer`, `scheduler`,\n",
    "# `DEVICE`, and `EPOCHS` are already defined.\n",
    "\n",
    "# ─── Setup ───────────────────────────────────────────────────────────────────\n",
    "# Assumes you’ve already created:\n",
    "#   train_dl, val_dl, DEVICE, LR, EPOCHS\n",
    "# and that train_dl.dataset is your YoloMaskDataset instance\n",
    "\n",
    "# 1) Instantiate model, optimizer, scheduler\n",
    "model     = MaCVAE(in_ch=3, latent_dim=128, beta=1.5, cond_dim=2).to(DEVICE)\n",
    "optimizer = Adam(filter(lambda p: p.requires_grad, model.parameters()), lr=LR)\n",
    "scheduler = ReduceLROnPlateau(optimizer, mode='min', factor=0.5, patience=2)\n",
    "\n",
    "# 2) Grab fmin/fmax from your dataset so it’s in scope\n",
    "fmin, fmax = train_dl.dataset.fmin, train_dl.dataset.fmax\n",
    "\n",
    "# ─── Training Function ─────────────────────────────────────────────────────\n",
    "def train(model, train_dl, val_dl, optimizer, scheduler, epochs, device, fmin, fmax):\n",
    "    best_val_loss = float('inf')\n",
    "    train_losses, val_losses = [], []\n",
    "\n",
    "    for epoch in range(1, epochs + 1):\n",
    "        # ---- Train ----\n",
    "        model.train()\n",
    "        running_train = 0.0\n",
    "        for imgs, masks, cond in tqdm(train_dl, desc=f\"Epoch {epoch}/{epochs} [Train]\", leave=False):\n",
    "            imgs, masks, cond = imgs.to(device), masks.to(device), cond.to(device)\n",
    "            optimizer.zero_grad()\n",
    "            recon, mu, logvar = model(imgs, cond)\n",
    "            loss = model.loss(recon, imgs, mu, logvar)\n",
    "            loss.backward()\n",
    "            optimizer.step()\n",
    "            running_train += loss.item() * imgs.size(0)\n",
    "        avg_train = running_train / len(train_dl.dataset)\n",
    "        train_losses.append(avg_train)\n",
    "\n",
    "        # ---- Validate & collect latents ----\n",
    "        model.eval()\n",
    "        running_val = 0.0\n",
    "        mus, freqs = [], []\n",
    "        with torch.no_grad():\n",
    "            for imgs, masks, cond in tqdm(val_dl, desc=f\"Epoch {epoch}/{epochs} [Val]\", leave=False):\n",
    "                imgs, masks, cond = imgs.to(device), masks.to(device), cond.to(device)\n",
    "                recon, mu, logvar = model(imgs, cond)\n",
    "                loss = model.loss(recon, imgs, mu, logvar)\n",
    "                running_val += loss.item() * imgs.size(0)\n",
    "\n",
    "                # store for t-SNE later\n",
    "                mus.append(mu.cpu().numpy())\n",
    "                # denormalize the f_start (first cond dim)\n",
    "                fs_batch = cond[:,0].cpu().numpy() * (fmax - fmin) + fmin\n",
    "                freqs.append(fs_batch)\n",
    "\n",
    "        avg_val = running_val / len(val_dl.dataset)\n",
    "        val_losses.append(avg_val)\n",
    "\n",
    "        # LR scheduler\n",
    "        scheduler.step(avg_val)\n",
    "\n",
    "        # logging & checkpoint\n",
    "        print(f\"Epoch {epoch}/{epochs} — Train: {avg_train:.4f}, Val: {avg_val:.4f}\")\n",
    "        if avg_val < best_val_loss:\n",
    "            best_val_loss = avg_val\n",
    "            torch.save(model.state_dict(), \"sam_finetuned_cvae.pth\")\n",
    "            print(\"→ New best model saved.\")\n",
    "\n",
    "    return train_losses, val_losses, np.vstack(mus), np.hstack(freqs)\n",
    "\n",
    "# ─── Run ─────────────────────────────────────────────────────────────────────\n",
    "train_losses, val_losses, mus_array, freqs_array = train(\n",
    "    model, train_dl, val_dl,\n",
    "    optimizer, scheduler,\n",
    "    EPOCHS, DEVICE,\n",
    "    fmin, fmax\n",
    ")\n"
   ]
  },
  {
   "cell_type": "code",
   "execution_count": 9,
   "id": "ae94cdca",
   "metadata": {},
   "outputs": [],
   "source": [
    "# # ─── Training Loop ─────────────────────────────────────────────────────────\n",
    "# os.makedirs(\"/datax/scratch/jliang/reconstructions\", exist_ok=True)\n",
    "# # 3) Training loop (fixed)\n",
    "# model     = MaVAE().to(DEVICE)\n",
    "# optimizer = torch.optim.Adam(model.parameters(), lr=LR)\n",
    "\n",
    "# for epoch in range(1, EPOCHS+1):\n",
    "#     model.train()\n",
    "#     tot_loss = 0.0\n",
    "#     for crops, _ in train_loader:\n",
    "#         crops = crops.to(DEVICE)\n",
    "#         optimizer.zero_grad()\n",
    "#         recon, mu, logvar = model(crops)\n",
    "#         # call your model’s loss method (or a standalone function)\n",
    "#         loss = model.loss(recon, crops, mu, logvar)\n",
    "#         loss.backward()\n",
    "#         optimizer.step()\n",
    "#         tot_loss += loss.item()\n",
    "#     avg = tot_loss / len(train_loader)\n",
    "#     print(f\"Epoch {epoch}/{EPOCHS} — Avg Loss: {avg:.4f}\")\n",
    "# # 3) Collect all μ’s and freqs\n",
    "# model.eval()\n",
    "# mus, freqs = [], []\n",
    "# with torch.no_grad():\n",
    "#     for crops, paths in full_dl:\n",
    "#         crops = crops.to(DEVICE)\n",
    "#         _, mu, _ = model(crops)               # [B, 128]\n",
    "#         mus.append(mu.cpu().numpy())\n",
    "#         # parse frequency out of filename: look for “f_1234.5”\n",
    "#         for p in paths:\n",
    "#             m = re.search(r\"f_([0-9\\.]+)\", p)\n",
    "#             freqs.append(float(m.group(1)) if m else np.nan)\n",
    "\n",
    "# mus = np.vstack(mus)    # (N, 128)\n",
    "# freqs = np.array(freqs) # (N,)\n"
   ]
  },
  {
   "cell_type": "code",
   "execution_count": 10,
   "id": "d0401b6c",
   "metadata": {},
   "outputs": [
    {
     "data": {
      "image/png": "[encoded data removed]",
      "text/plain": [
       "<Figure size 600x600 with 2 Axes>"
      ]
     },
     "metadata": {},
     "output_type": "display_data"
    }
   ],
   "source": [
    "tsne = TSNE(n_components=2, random_state=42)\n",
    "Z_tsne = tsne.fit_transform(mus_array)\n",
    "\n",
    "plt.figure(figsize=(6,6))\n",
    "plt.scatter(Z_tsne[:,0], Z_tsne[:,1], c=freqs_array, cmap=\"viridis\", s=8)\n",
    "plt.colorbar(label=\"Signal frequency\")\n",
    "plt.title(\"t-SNE of VAE latents colored by f_\")\n",
    "plt.xlabel(\"TSNE 1\"); plt.ylabel(\"TSNE 2\")\n",
    "plt.show()"
   ]
  },
  {
   "cell_type": "code",
   "execution_count": 11,
   "id": "f7d82cb8",
   "metadata": {},
   "outputs": [
    {
     "data": {
      "image/png": "[encoded data removed]",
      "text/plain": [
       "<Figure size 600x600 with 1 Axes>"
      ]
     },
     "metadata": {},
     "output_type": "display_data"
    }
   ],
   "source": [
    "import numpy as np\n",
    "\n",
    "tsne = TSNE(n_components=2, random_state=42)\n",
    "Z_tsne = tsne.fit_transform(mus_array)\n",
    "\n",
    "# 1) Assign each point to a signal type based on its frequency\n",
    "labels = []\n",
    "for f in freqs_array:\n",
    "    if abs(f - 1575) < 10:           # within ±10 MHz of 1575\n",
    "        labels.append(\"GPS (~1575 MHz)\")\n",
    "    elif abs(f - 1620) < 10:         # within ±10 MHz of 1620\n",
    "        labels.append(\"Iridium (~1620 MHz)\")\n",
    "    else:\n",
    "        labels.append(\"Other\")\n",
    "\n",
    "labels = np.array(labels)\n",
    "\n",
    "# 2) Plot each category separately for discrete coloring + legend\n",
    "plt.figure(figsize=(6,6))\n",
    "for lab in np.unique(labels):\n",
    "    mask = (labels == lab)\n",
    "    plt.scatter(\n",
    "        Z_tsne[mask, 0],\n",
    "        Z_tsne[mask, 1],\n",
    "        label=lab,\n",
    "        s=8\n",
    "    )\n",
    "\n",
    "plt.title(\"t-SNE of VAE latents, colored by signal type\")\n",
    "plt.xlabel(\"TSNE 1\")\n",
    "plt.ylabel(\"TSNE 2\")\n",
    "plt.legend(markerscale=2, fontsize=\"small\", frameon=True)\n",
    "plt.tight_layout()\n",
    "plt.show()\n",
    "\n",
    "\n",
    "# # 4b) UMAP embedding\n",
    "# um = umap.UMAP(n_components=2, random_state=42)\n",
    "# Z_umap = um.fit_transform(mus)\n",
    "\n",
    "# plt.figure(figsize=(6,6))\n",
    "# plt.scatter(Z_umap[:,0], Z_umap[:,1], c=freqs, cmap=\"plasma\", s=8)\n",
    "# plt.colorbar(label=\"Signal frequency\")\n",
    "# plt.title(\"UMAP of VAE latents colored by f_\")\n",
    "# plt.xlabel(\"UMAP 1\"); plt.ylabel(\"UMAP 2\")\n",
    "# plt.show()"
   ]
  }
 ],
 "metadata": {
  "kernelspec": {
   "display_name": "torch",
   "language": "python",
   "name": "python3"
  },
  "language_info": {
   "codemirror_mode": {
    "name": "ipython",
    "version": 3
   },
   "file_extension": ".py",
   "mimetype": "text/x-python",
   "name": "python",
   "nbconvert_exporter": "python",
   "pygments_lexer": "ipython3",
   "version": "3.12.3"
  }
 },
 "nbformat": 4,
 "nbformat_minor": 5
}
